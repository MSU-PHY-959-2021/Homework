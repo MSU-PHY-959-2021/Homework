{
 "cells": [
  {
   "cell_type": "markdown",
   "id": "clear-davis",
   "metadata": {},
   "source": [
    "<!-- dom:TITLE: Homework 1, PHY 959 -->\n",
    "<!-- dom:AUTHOR: [PHY 959: Machine Learning in Physics]-->\n",
    "\n",
    "\n",
    "# PHY 959: Homework Set #1\n",
    "Due: **January 28, 2021**\n",
    "\n",
    "\n",
    "\n",
    "___\n",
    "***\n",
    "\n",
    "\n",
    "# Problem 1: Getting comfortable with Python\n",
    "\n",
    "In this problem, we will exercise some useful Python skills that will be useful in the rest of this homework problem set and for the rest of the course.  There will be three parts to this problem:\n",
    "\n",
    "  * Loading the Iris Flower dataset.  Note that there are two questions to answer.\n",
    "  * Making 1D histograms of the features \n",
    "  * Making 2D histograms of the features\n",
    "\n",
    "\n",
    "## Part 1a:\n",
    "We're going to be using Python3 (ideally v3.8!) so you should check that you have access to that version (go check now!).  There's no need to remove Python v2.X if you want to keep it, as your computer should allow both.  If you're here, I assume that you have anaconda already installed, so hopefully this part is done!\n",
    "\n",
    "***\n",
    "\n",
    "## Part 1b:\n",
    "Next, we're going to be using NumPy, SciPy, scikit-learn, and Pandas this semester, so you'll want to ensure that you have them installed properly. If you're not familiar with pip, this is the primary installation tool for python.  Note: even if you have these, you should just do an upgrade to make sure you're using the same code as everyone else.  Double-note:  you may need to use pip3 for Python3.\n",
    "\n",
    "` pip install -U numpy scipy pandas scikit-learn`\n",
    "\n",
    "\n",
    "If you prefer to stay within anaconda, that's fine too:\n",
    "\n",
    "`conda install -c anaconda numpy scipy pandas`\n",
    "\n",
    "`conda install -c conda-forge scikit-learn`\n",
    "\n",
    "\n",
    "As usual, report any failures or strange behavior to Prof. Fisher.\n",
    "\n",
    "***\n",
    "\n",
    "## Part 1c:\n",
    "\n",
    "Now let's try to use our python skills to get a dataset!  The Iris Flowers Dataset is a labeled data sample that we can use for both supervised and unsupervised learning.  The code below will show you how to use pandas to load the Iris dataset:"
   ]
  },
  {
   "cell_type": "code",
   "execution_count": 6,
   "id": "consecutive-vertical",
   "metadata": {},
   "outputs": [],
   "source": [
    "# Load libraries\n",
    "from pandas import read_csv\n",
    "\n",
    "# Load dataset\n",
    "url = \"https://raw.githubusercontent.com/jbrownlee/Datasets/master/iris.csv\"\n",
    "names = ['sepal-length', 'sepal-width', 'petal-length', 'petal-width', 'class']\n",
    "dataset = read_csv(url, names=names)\n"
   ]
  },
  {
   "cell_type": "markdown",
   "id": "external-pathology",
   "metadata": {},
   "source": [
    "\n",
    "Now we can explore the data set by looking at the dimensionality, statistical summary and class description.\n"
   ]
  },
  {
   "cell_type": "code",
   "execution_count": 7,
   "id": "unavailable-portrait",
   "metadata": {},
   "outputs": [
    {
     "name": "stdout",
     "output_type": "stream",
     "text": [
      "Shape:\n",
      " (150, 5) \n",
      "\n",
      "Head:\n",
      "     sepal-length  sepal-width  petal-length  petal-width        class\n",
      "0            5.1          3.5           1.4          0.2  Iris-setosa\n",
      "1            4.9          3.0           1.4          0.2  Iris-setosa\n",
      "2            4.7          3.2           1.3          0.2  Iris-setosa\n",
      "3            4.6          3.1           1.5          0.2  Iris-setosa\n",
      "4            5.0          3.6           1.4          0.2  Iris-setosa\n",
      "5            5.4          3.9           1.7          0.4  Iris-setosa\n",
      "6            4.6          3.4           1.4          0.3  Iris-setosa\n",
      "7            5.0          3.4           1.5          0.2  Iris-setosa\n",
      "8            4.4          2.9           1.4          0.2  Iris-setosa\n",
      "9            4.9          3.1           1.5          0.1  Iris-setosa\n",
      "10           5.4          3.7           1.5          0.2  Iris-setosa\n",
      "11           4.8          3.4           1.6          0.2  Iris-setosa\n",
      "12           4.8          3.0           1.4          0.1  Iris-setosa\n",
      "13           4.3          3.0           1.1          0.1  Iris-setosa\n",
      "14           5.8          4.0           1.2          0.2  Iris-setosa\n",
      "15           5.7          4.4           1.5          0.4  Iris-setosa\n",
      "16           5.4          3.9           1.3          0.4  Iris-setosa\n",
      "17           5.1          3.5           1.4          0.3  Iris-setosa\n",
      "18           5.7          3.8           1.7          0.3  Iris-setosa\n",
      "19           5.1          3.8           1.5          0.3  Iris-setosa \n",
      "\n",
      "Description:\n",
      "        sepal-length  sepal-width  petal-length  petal-width\n",
      "count    150.000000   150.000000    150.000000   150.000000\n",
      "mean       5.843333     3.054000      3.758667     1.198667\n",
      "std        0.828066     0.433594      1.764420     0.763161\n",
      "min        4.300000     2.000000      1.000000     0.100000\n",
      "25%        5.100000     2.800000      1.600000     0.300000\n",
      "50%        5.800000     3.000000      4.350000     1.300000\n",
      "75%        6.400000     3.300000      5.100000     1.800000\n",
      "max        7.900000     4.400000      6.900000     2.500000 \n",
      "\n",
      "Class Distribution:\n",
      " class\n",
      "Iris-setosa        50\n",
      "Iris-versicolor    50\n",
      "Iris-virginica     50\n",
      "dtype: int64\n"
     ]
    }
   ],
   "source": [
    "# summarize the data\n",
    "\n",
    "# shape\n",
    "print(\"Shape:\\n\",dataset.shape, \"\\n\")\n",
    "\n",
    "# first 20 samples\n",
    "print(\"Head:\\n\",dataset.head(20), \"\\n\")\n",
    "\n",
    "# descriptions\n",
    "print(\"Description:\\n\",dataset.describe(), \"\\n\")\n",
    "\n",
    "# class distributio\n",
    "print(\"Class Distribution:\\n\",dataset.groupby('class').size())\n"
   ]
  },
  {
   "cell_type": "markdown",
   "id": "multiple-courtesy",
   "metadata": {},
   "source": [
    "\n",
    "## Question #1:  \n",
    "How many features are included in the Iris Flowers dataset?  Write your answer in the following cell.\n"
   ]
  },
  {
   "cell_type": "code",
   "execution_count": null,
   "id": "amino-ancient",
   "metadata": {},
   "outputs": [],
   "source": []
  },
  {
   "cell_type": "markdown",
   "id": "baking-damages",
   "metadata": {},
   "source": [
    "## Question #2:  \n",
    "What are the dimensions of the design matrix for this dataset (aka the feature matrix)?  Specify if you are including the labels in your answer."
   ]
  },
  {
   "cell_type": "code",
   "execution_count": null,
   "id": "polish-reach",
   "metadata": {},
   "outputs": [],
   "source": []
  },
  {
   "cell_type": "markdown",
   "id": "strong-creation",
   "metadata": {},
   "source": [
    "\n",
    "***\n",
    "\n",
    "## Part 2:\n",
    "\n",
    "Now let's plot the data as histograms.  I suggest to use `matplotlib` module, but if you have other favorites that's fine too.  Make 1-dimensional histograms for each feature.  As you saw above, there are 150 entries so you should choose an appropriate number of histogram bins to get a good feeling for the PDF of each feature.  Calculate the mean and standard deviation of your histogram, comparing to the values found above.\n",
    "\n",
    "Add cells below as needed.\n"
   ]
  },
  {
   "cell_type": "code",
   "execution_count": 8,
   "id": "personal-probe",
   "metadata": {},
   "outputs": [],
   "source": [
    "#More modules!\n",
    "from matplotlib import pyplot\n"
   ]
  },
  {
   "cell_type": "markdown",
   "id": "executive-melissa",
   "metadata": {},
   "source": [
    "***\n",
    "\n",
    "## Part 3:\n",
    "\n",
    "Last part!  Now let's make 2-dimensional figures for our data.  I suggest to use histograms for this.  How many 2D histograms should you make?\n",
    "\n",
    "Hint:  I've started you off by loading the `scatter_matrix` module from Pandas.  Can you work out why?"
   ]
  },
  {
   "cell_type": "code",
   "execution_count": 9,
   "id": "powered-beast",
   "metadata": {},
   "outputs": [],
   "source": [
    "#Hmmmm\n",
    "from pandas.plotting import scatter_matrix\n"
   ]
  }
 ],
 "metadata": {
  "kernelspec": {
   "display_name": "Python 3",
   "language": "python",
   "name": "python3"
  },
  "language_info": {
   "codemirror_mode": {
    "name": "ipython",
    "version": 3
   },
   "file_extension": ".py",
   "mimetype": "text/x-python",
   "name": "python",
   "nbconvert_exporter": "python",
   "pygments_lexer": "ipython3",
   "version": "3.8.5"
  }
 },
 "nbformat": 4,
 "nbformat_minor": 5
}
